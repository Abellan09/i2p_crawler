{
 "cells": [
  {
   "cell_type": "markdown",
   "metadata": {},
   "source": [
    "### Análisis del error en conexiones HTTP: BadStatusLine"
   ]
  },
  {
   "cell_type": "code",
   "execution_count": 62,
   "metadata": {},
   "outputs": [],
   "source": [
    "import pandas as pd\n",
    "import subprocess\n",
    "import requests\n",
    "import shlex\n",
    "import traceback\n",
    "import matplotlib.pyplot as plt\n",
    "\n",
    "# For saving dataframes\n",
    "data_path = 'data/error_bad_status_line/'"
   ]
  },
  {
   "cell_type": "code",
   "execution_count": 42,
   "metadata": {},
   "outputs": [],
   "source": [
    "def connectThroughProxy(eepsite_url, proxies, timeout):\n",
    "    '''\n",
    "    Connection through HTTP i2p proxy\n",
    "    '''\n",
    "    # headers\n",
    "    headers = {'User-Agent': 'Mozilla/5.0 (X11; Ubuntu; Linux x86_64; rv:65.0) Gecko/20100101 Firefox/65.0'}\n",
    "    response = requests.get(eepsite_url, proxies=proxies, headers=headers, timeout=timeout)\n",
    "    return response"
   ]
  },
  {
   "cell_type": "code",
   "execution_count": 43,
   "metadata": {},
   "outputs": [],
   "source": [
    "def printResponse(response):\n",
    "    '''\n",
    "    HTTP response printing\n",
    "    '''\n",
    "    print(response.status_code)\n",
    "    print(response.elapsed.total_seconds())\n",
    "    print(response.headers)"
   ]
  },
  {
   "cell_type": "code",
   "execution_count": 44,
   "metadata": {},
   "outputs": [],
   "source": [
    "### Get all i2p peers who raise the error\n",
    "host='i2pProjectM2'\n",
    "with open(data_path + host + '_bad_status_line.txt','r') as f:\n",
    "    bsl = f.readlines()\n",
    "    \n",
    "# Filtering lines\n",
    "bsl=[item.replace(':','').replace('\\n','') for item in bsl]"
   ]
  },
  {
   "cell_type": "code",
   "execution_count": 45,
   "metadata": {},
   "outputs": [
    {
     "name": "stdout",
     "output_type": "stream",
     "text": [
      "[+] Connecting to http://2etiyp3munps2md4lz6tnzjz746eh56c6ffuxhirbtjxk36na3pq.b32.i2p\n",
      "504\n",
      "8.17295\n",
      "{'Cache-Control': 'no-cache', 'Content-Type': 'text/html; charset=UTF-8', 'Proxy-Connection': 'close', 'Connection': 'close'}\n",
      "\n",
      "[+] Connecting to http://3obu3xulwsuz5thpbwfqfbrimg4wsk5ke3v2hycv335g5u32sbbq.b32.i2p\n",
      "504\n",
      "9.566871\n",
      "{'Cache-Control': 'no-cache', 'Content-Type': 'text/html; charset=UTF-8', 'Proxy-Connection': 'close', 'Connection': 'close'}\n",
      "\n",
      "[+] Connecting to http://3ton423no5ozqvmg6rk75573oz6n2zkykdy6awnsrm25tyn4sq3a.b32.i2p\n",
      "HTTPConnectionPool(host='localhost', port=4444): Read timed out. (read timeout=30)\n",
      "\n",
      "[+] Connecting to http://5hinf5yzrqr4qx3s2jjmhs55mmuqwonh7bsnsdivo66pc3vr4qvq.b32.i2p\n",
      "504\n",
      "8.341831\n",
      "{'Cache-Control': 'no-cache', 'Content-Type': 'text/html; charset=UTF-8', 'Proxy-Connection': 'close', 'Connection': 'close'}\n",
      "\n",
      "[+] Connecting to http://5qlr6ciqlzkgzaw2csx2lp7nunxk4hvxu737ns5dqkfsv7n7yyiq.b32.i2p\n",
      "HTTPConnectionPool(host='localhost', port=4444): Read timed out. (read timeout=30)\n",
      "\n",
      "[+] Connecting to http://cylgq2f3u4icehmnxbwnqqnrrojdkkw3enczj5qw4g6aqd6ymgya.b32.i2p\n",
      "504\n",
      "12.210045\n",
      "{'Cache-Control': 'no-cache', 'Content-Type': 'text/html; charset=UTF-8', 'Proxy-Connection': 'close', 'Connection': 'close'}\n",
      "\n",
      "[+] Connecting to http://fy6gx3fnladn2pxyawtei4nc33i32gwyjxe5k5faqpdkorxjw2oa.b32.i2p\n",
      "HTTPConnectionPool(host='localhost', port=4444): Max retries exceeded with url: http://fy6gx3fnladn2pxyawtei4nc33i32gwyjxe5k5faqpdkorxjw2oa.b32.i2p/ (Caused by ProxyError('Cannot connect to proxy.', RemoteDisconnected('Remote end closed connection without response',)))\n",
      "\n",
      "[+] Connecting to http://jef4g5vxnqybm4zpouum3lzbl6ti6456q57nbyj5kfyldkempm3a.b32.i2p\n",
      "HTTPConnectionPool(host='localhost', port=4444): Max retries exceeded with url: http://jef4g5vxnqybm4zpouum3lzbl6ti6456q57nbyj5kfyldkempm3a.b32.i2p/ (Caused by ProxyError('Cannot connect to proxy.', RemoteDisconnected('Remote end closed connection without response',)))\n",
      "\n",
      "[+] Connecting to http://kx6zxc3dynejbajsuxzhrkfqgqffwk6brijnek6jvjvikfwozhiq.b32.i2p\n",
      "504\n",
      "7.110685\n",
      "{'Cache-Control': 'no-cache', 'Content-Type': 'text/html; charset=UTF-8', 'Proxy-Connection': 'close', 'Connection': 'close'}\n",
      "\n",
      "[+] Connecting to http://pgspneegm4als6exlb426irjiad4bqw6tzp23s6hqk2u2ip742mq.b32.i2p\n",
      "HTTPConnectionPool(host='localhost', port=4444): Max retries exceeded with url: http://pgspneegm4als6exlb426irjiad4bqw6tzp23s6hqk2u2ip742mq.b32.i2p/ (Caused by ProxyError('Cannot connect to proxy.', RemoteDisconnected('Remote end closed connection without response',)))\n",
      "\n",
      "[+] Connecting to http://r2xrlwdum5nzlq3zahvurcvahsjz3xphgtprlzhwgzkfmkdisaza.b32.i2p\n",
      "HTTPConnectionPool(host='localhost', port=4444): Max retries exceeded with url: http://r2xrlwdum5nzlq3zahvurcvahsjz3xphgtprlzhwgzkfmkdisaza.b32.i2p/ (Caused by ProxyError('Cannot connect to proxy.', RemoteDisconnected('Remote end closed connection without response',)))\n",
      "\n",
      "[+] Connecting to http://rrxm5o5clwc2xybbekdxpenyuex7uvhxxcwytqicbaakf2imijhq.b32.i2p\n",
      "HTTPConnectionPool(host='localhost', port=4444): Read timed out. (read timeout=30)\n",
      "\n",
      "[+] Connecting to http://vkpunk5tf7rq5mtk76yw72astf442convgbrrlav3epf72r6mteq.b32.i2p\n",
      "HTTPConnectionPool(host='localhost', port=4444): Read timed out. (read timeout=30)\n",
      "\n",
      "[+] Connecting to http://wbpion7w3w67jiqi7s7xhckdqtxxk5lf56uee3amq5bmrxb2nqkq.b32.i2p\n",
      "504\n",
      "11.012103\n",
      "{'Cache-Control': 'no-cache', 'Content-Type': 'text/html; charset=UTF-8', 'Proxy-Connection': 'close', 'Connection': 'close'}\n",
      "\n",
      "[+] Connecting to http://wiz5ad5nsknqtycizvkpp7dqckdfo64c5l4ax5cafqsfsegcub5a.b32.i2p\n",
      "HTTPConnectionPool(host='localhost', port=4444): Read timed out. (read timeout=30)\n",
      "\n",
      "[+] Connecting to http://xb263yetxop6filwicmiuiu6ianwgqzlppi477thqmw4igzgi6uq.b32.i2p\n",
      "HTTPConnectionPool(host='localhost', port=4444): Max retries exceeded with url: http://xb263yetxop6filwicmiuiu6ianwgqzlppi477thqmw4igzgi6uq.b32.i2p/ (Caused by ProxyError('Cannot connect to proxy.', RemoteDisconnected('Remote end closed connection without response',)))\n",
      "\n",
      "[+] Connecting to http://xcif4kw4w4kufdzntbw373h5qixkmqitch5rlmugdgdpqdkjd6ca.b32.i2p\n",
      "504\n",
      "7.645364\n",
      "{'Cache-Control': 'no-cache', 'Content-Type': 'text/html; charset=UTF-8', 'Proxy-Connection': 'close', 'Connection': 'close'}\n",
      "\n",
      "[+] Connecting to http://xg43jnmpolki2fboqtpsaverhjkiisie4vp5e3473iyxre6htp5a.b32.i2p\n",
      "HTTPConnectionPool(host='localhost', port=4444): Read timed out. (read timeout=30)\n",
      "\n",
      "[+] Connecting to http://zub37dr5rkxjw32cstdp472szqwmiht7z3thiisdvaiwdtj3ymza.b32.i2p\n",
      "HTTPConnectionPool(host='localhost', port=4444): Read timed out. (read timeout=30)\n",
      "\n"
     ]
    }
   ],
   "source": [
    "proxies={'http': 'http://localhost:4444'}\n",
    "timeout=30\n",
    "\n",
    "site_error = {}\n",
    "\n",
    "for site in bsl:\n",
    "    try:\n",
    "        url='http://'+site\n",
    "        print(\"[+] Connecting to \" + url)\n",
    "\n",
    "        response = connectThroughProxy(url, proxies, timeout)\n",
    "        printResponse(response)\n",
    "        \n",
    "\n",
    "    except Exception as e:\n",
    "        print(e)  \n",
    "        site_error[site]=e\n",
    "        \n",
    "    print(\"\")\n",
    "        "
   ]
  },
  {
   "cell_type": "code",
   "execution_count": 77,
   "metadata": {},
   "outputs": [],
   "source": [
    "with open(\"site_error.txt\",\"w\") as f:\n",
    "    for site in site_error.keys():\n",
    "        f.write(site + \"\\n\")"
   ]
  },
  {
   "cell_type": "code",
   "execution_count": 66,
   "metadata": {},
   "outputs": [
    {
     "name": "stdout",
     "output_type": "stream",
     "text": [
      "[+] ncat -v --proxy localhost:4444 vkpunk5tf7rq5mtk76yw72astf442convgbrrlav3epf72r6mteq.b32.i2p\n",
      "b''\n",
      "\n",
      "[+] ncat -v --proxy localhost:4444 rrxm5o5clwc2xybbekdxpenyuex7uvhxxcwytqicbaakf2imijhq.b32.i2p\n",
      "b''\n",
      "\n",
      "[+] ncat -v --proxy localhost:4444 fy6gx3fnladn2pxyawtei4nc33i32gwyjxe5k5faqpdkorxjw2oa.b32.i2p\n",
      "b''\n",
      "\n",
      "[+] ncat -v --proxy localhost:4444 xb263yetxop6filwicmiuiu6ianwgqzlppi477thqmw4igzgi6uq.b32.i2p\n",
      "b''\n",
      "\n",
      "[+] ncat -v --proxy localhost:4444 zub37dr5rkxjw32cstdp472szqwmiht7z3thiisdvaiwdtj3ymza.b32.i2p\n",
      "b''\n",
      "\n",
      "[+] ncat -v --proxy localhost:4444 jef4g5vxnqybm4zpouum3lzbl6ti6456q57nbyj5kfyldkempm3a.b32.i2p\n",
      "b''\n",
      "\n",
      "[+] ncat -v --proxy localhost:4444 wiz5ad5nsknqtycizvkpp7dqckdfo64c5l4ax5cafqsfsegcub5a.b32.i2p\n",
      "b''\n",
      "\n",
      "[+] ncat -v --proxy localhost:4444 pgspneegm4als6exlb426irjiad4bqw6tzp23s6hqk2u2ip742mq.b32.i2p\n",
      "b''\n",
      "\n",
      "[+] ncat -v --proxy localhost:4444 xg43jnmpolki2fboqtpsaverhjkiisie4vp5e3473iyxre6htp5a.b32.i2p\n",
      "b''\n",
      "\n",
      "[+] ncat -v --proxy localhost:4444 3ton423no5ozqvmg6rk75573oz6n2zkykdy6awnsrm25tyn4sq3a.b32.i2p\n",
      "b''\n",
      "\n",
      "[+] ncat -v --proxy localhost:4444 r2xrlwdum5nzlq3zahvurcvahsjz3xphgtprlzhwgzkfmkdisaza.b32.i2p\n",
      "b''\n",
      "\n",
      "[+] ncat -v --proxy localhost:4444 5qlr6ciqlzkgzaw2csx2lp7nunxk4hvxu737ns5dqkfsv7n7yyiq.b32.i2p\n",
      "b''\n",
      "\n"
     ]
    }
   ],
   "source": [
    "for site in site_error.keys():\n",
    "    command=\"ncat -v --proxy localhost:4444 \"+ site\n",
    "    print(\"[+] \" + str(command))\n",
    "    p = subprocess.Popen(shlex.split(command), stdout=subprocess.PIPE)\n",
    "    (output, err) = p.communicate()\n",
    "    print(output)\n",
    "    print(\"\")"
   ]
  },
  {
   "cell_type": "code",
   "execution_count": null,
   "metadata": {},
   "outputs": [],
   "source": []
  }
 ],
 "metadata": {
  "kernelspec": {
   "display_name": "i2p",
   "language": "python",
   "name": "i2p"
  },
  "language_info": {
   "codemirror_mode": {
    "name": "ipython",
    "version": 3
   },
   "file_extension": ".py",
   "mimetype": "text/x-python",
   "name": "python",
   "nbconvert_exporter": "python",
   "pygments_lexer": "ipython3",
   "version": "3.5.6"
  }
 },
 "nbformat": 4,
 "nbformat_minor": 2
}
