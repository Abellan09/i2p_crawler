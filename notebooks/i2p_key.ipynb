{
 "cells": [
  {
   "cell_type": "code",
   "execution_count": 1,
   "metadata": {},
   "outputs": [],
   "source": [
    "import base64"
   ]
  },
  {
   "cell_type": "code",
   "execution_count": 21,
   "metadata": {},
   "outputs": [],
   "source": [
    "# Destination hash of a router\n",
    "dhash='O-g4hTftjZ5~Pre-l2YUkbX0OfP9Okiux9GRfo8Ulao='\n",
    "raw_key = base64.b64decode(dhash,'-~')\n",
    "base32_hash = base64.b32encode(raw_key)\n",
    "base32_hash = str(base32_hash,'utf-8')\n",
    "eepsite = base32_hash.lower().replace('=','')"
   ]
  },
  {
   "cell_type": "code",
   "execution_count": 22,
   "metadata": {},
   "outputs": [
    {
     "data": {
      "text/plain": [
       "b';\\xe88\\x857\\xed\\x8d\\x9e\\x7f>\\xb7\\xbe\\x97f\\x14\\x91\\xb5\\xf49\\xf3\\xfd:H\\xae\\xc7\\xd1\\x91~\\x8f\\x14\\x95\\xaa'"
      ]
     },
     "execution_count": 22,
     "metadata": {},
     "output_type": "execute_result"
    }
   ],
   "source": [
    "raw_key"
   ]
  },
  {
   "cell_type": "code",
   "execution_count": 23,
   "metadata": {},
   "outputs": [
    {
     "data": {
      "text/plain": [
       "'HPUDRBJX5WGZ47Z6W67JOZQUSG27IOPT7U5ERLWH2GIX5DYUSWVA===='"
      ]
     },
     "execution_count": 23,
     "metadata": {},
     "output_type": "execute_result"
    }
   ],
   "source": [
    "base32_hash"
   ]
  },
  {
   "cell_type": "code",
   "execution_count": 26,
   "metadata": {},
   "outputs": [
    {
     "data": {
      "text/plain": [
       "'hpudrbjx5wgz47z6w67jozqusg27iopt7u5erlwh2gix5dyuswva.b32.i2p'"
      ]
     },
     "execution_count": 26,
     "metadata": {},
     "output_type": "execute_result"
    }
   ],
   "source": [
    "eepsite + \".b32.i2p\""
   ]
  },
  {
   "cell_type": "code",
   "execution_count": null,
   "metadata": {},
   "outputs": [],
   "source": [
    "# From the floodbill router\n",
    "# Key:          hpudrbjx5wgz47z6w67jozqusg27iopt7u5erlwh2gix5dyuswva.b32.i2p\n",
    "# Derived key:  hpudrbjx5wgz47z6w67jozqusg27iopt7u5erlwh2gix5dyuswva.b32.i2p"
   ]
  }
 ],
 "metadata": {
  "kernelspec": {
   "display_name": "py35stats",
   "language": "python",
   "name": "py35stat"
  },
  "language_info": {
   "codemirror_mode": {
    "name": "ipython",
    "version": 3
   },
   "file_extension": ".py",
   "mimetype": "text/x-python",
   "name": "python",
   "nbconvert_exporter": "python",
   "pygments_lexer": "ipython3",
   "version": "3.7.0"
  }
 },
 "nbformat": 4,
 "nbformat_minor": 2
}
